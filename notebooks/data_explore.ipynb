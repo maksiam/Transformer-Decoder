{
 "cells": [
  {
   "cell_type": "code",
   "execution_count": null,
   "metadata": {},
   "outputs": [],
   "source": [
    "import ebooklib\n",
    "from ebooklib import epub\n",
    "from bs4 import BeautifulSoup\n",
    "import pandas as pd\n",
    "from PyPDF2 import PdfReader\n",
    "import os"
   ]
  },
  {
   "attachments": {},
   "cell_type": "markdown",
   "metadata": {},
   "source": [
    "# Exctracting data from EPUB"
   ]
  },
  {
   "cell_type": "code",
   "execution_count": null,
   "metadata": {},
   "outputs": [],
   "source": [
    "book = epub.read_epub(r\"..\\data\\raw\\hpmor_ru.epub\")\n",
    "# get list of documents objects\n",
    "items = list(book.get_items_of_type(ebooklib.ITEM_DOCUMENT))\n"
   ]
  },
  {
   "cell_type": "code",
   "execution_count": null,
   "metadata": {},
   "outputs": [],
   "source": [
    "def chapter_to_str(chapter: str) -> str:\n",
    "    \"\"\"Function for html parsing epub file into text\n",
    "\n",
    "    Args:\n",
    "        chapter (str): chapter object\n",
    "\n",
    "    Returns:\n",
    "        str: text of the chapter\n",
    "    \"\"\"\n",
    "    soup = BeautifulSoup(chapter.get_body_content(), \"html.parser\")\n",
    "    text = [para.get_text() for para in soup.find_all(\"p\")]\n",
    "    return \" \".join(text)\n"
   ]
  },
  {
   "cell_type": "code",
   "execution_count": null,
   "metadata": {},
   "outputs": [],
   "source": [
    "texts = {}\n",
    "for c in items:\n",
    "    texts[c.get_name()] = chapter_to_str(c)"
   ]
  },
  {
   "cell_type": "code",
   "execution_count": null,
   "metadata": {},
   "outputs": [],
   "source": [
    "print(\" \".join(texts.values()))\n"
   ]
  },
  {
   "cell_type": "code",
   "execution_count": null,
   "metadata": {},
   "outputs": [],
   "source": [
    "df = pd.DataFrame({'hpmor': \" \".join(texts.values())}, index=['text']).T\n",
    "df"
   ]
  },
  {
   "attachments": {},
   "cell_type": "markdown",
   "metadata": {},
   "source": [
    "# Extracting data from PDF"
   ]
  },
  {
   "cell_type": "code",
   "execution_count": null,
   "metadata": {},
   "outputs": [],
   "source": [
    "# creating a pdf reader object\n",
    "reader = PdfReader(r\"..\\data\\raw\\hp_original\\1.Гарри_Поттер_и_философский_камень.pdf\")\n",
    "\n",
    "# printing number of pages in pdf file\n",
    "print(len(reader.pages))\n"
   ]
  },
  {
   "cell_type": "code",
   "execution_count": null,
   "metadata": {},
   "outputs": [],
   "source": [
    "# getting a specific page from the pdf file\n",
    "page = reader.pages[2]\n",
    "\n",
    "# extracting text from page\n",
    "text = page.extract_text()\n",
    "print(\" \".join(text.split()))\n"
   ]
  },
  {
   "cell_type": "code",
   "execution_count": null,
   "metadata": {},
   "outputs": [],
   "source": [
    "hp_1 = []\n",
    "for page in reader.pages:\n",
    "    text = page.extract_text()\n",
    "    text = \" \".join(text.split())\n",
    "    hp_1.append(text)"
   ]
  },
  {
   "cell_type": "code",
   "execution_count": null,
   "metadata": {},
   "outputs": [],
   "source": [
    "print(\"\\n\".join(hp_1))\n"
   ]
  },
  {
   "cell_type": "code",
   "execution_count": null,
   "metadata": {},
   "outputs": [],
   "source": [
    "import os\n",
    "\n",
    "# folder path\n",
    "dir_path = r\"..\\\\data\\\\raw\\\\hp_original\\\\\"\n",
    "\n",
    "# list file and directories\n",
    "books = os.listdir(dir_path)\n"
   ]
  },
  {
   "cell_type": "code",
   "execution_count": null,
   "metadata": {},
   "outputs": [],
   "source": [
    "hp = {title: [] for title in books}\n"
   ]
  },
  {
   "cell_type": "code",
   "execution_count": null,
   "metadata": {},
   "outputs": [],
   "source": [
    "for title in books:\n",
    "    print(f\"Reading {title}\")\n",
    "    # creating a pdf reader object\n",
    "    reader = PdfReader(dir_path + title)\n",
    "\n",
    "    # printing number of pages in pdf file\n",
    "    print(f\"Number of pages: {len(reader.pages)}\")\n",
    "    temp = []\n",
    "    for page in reader.pages:\n",
    "        text = page.extract_text()\n",
    "        text = \" \".join(text.split())\n",
    "        temp.append(text)\n",
    "    hp[title] = \"\\n\".join(temp)\n"
   ]
  },
  {
   "cell_type": "code",
   "execution_count": null,
   "metadata": {},
   "outputs": [],
   "source": [
    "pd.DataFrame(hp, index=[\"text\"]).T"
   ]
  },
  {
   "cell_type": "code",
   "execution_count": null,
   "metadata": {},
   "outputs": [],
   "source": [
    "df = pd.concat([df, pd.DataFrame(hp, index=['text']).T], axis=0)"
   ]
  },
  {
   "cell_type": "code",
   "execution_count": null,
   "metadata": {},
   "outputs": [],
   "source": [
    "df\n"
   ]
  },
  {
   "attachments": {},
   "cell_type": "markdown",
   "metadata": {},
   "source": [
    "# Analyze"
   ]
  },
  {
   "cell_type": "code",
   "execution_count": null,
   "metadata": {},
   "outputs": [],
   "source": [
    "# crop DataFrame to avoid authors and translaters utterances\n",
    "df = df.iloc[3:-1]"
   ]
  },
  {
   "cell_type": "code",
   "execution_count": null,
   "metadata": {},
   "outputs": [],
   "source": [
    "# get length of every chapter\n",
    "df[\"length\"] = df.text.apply(len)"
   ]
  },
  {
   "cell_type": "code",
   "execution_count": null,
   "metadata": {},
   "outputs": [],
   "source": [
    "df.shape"
   ]
  },
  {
   "cell_type": "code",
   "execution_count": null,
   "metadata": {},
   "outputs": [],
   "source": [
    "df.isna().sum()"
   ]
  },
  {
   "cell_type": "code",
   "execution_count": null,
   "metadata": {},
   "outputs": [],
   "source": [
    "df.duplicated().sum()"
   ]
  },
  {
   "cell_type": "code",
   "execution_count": null,
   "metadata": {},
   "outputs": [],
   "source": [
    "import matplotlib.pyplot as plt\n",
    "\n",
    "plt.bar(list(range(0, df.shape[0])), df.length)\n"
   ]
  },
  {
   "cell_type": "code",
   "execution_count": null,
   "metadata": {},
   "outputs": [],
   "source": []
  }
 ],
 "metadata": {
  "kernelspec": {
   "display_name": "transformer-S-ou0Pg6-py3.9",
   "language": "python",
   "name": "python3"
  },
  "language_info": {
   "codemirror_mode": {
    "name": "ipython",
    "version": 3
   },
   "file_extension": ".py",
   "mimetype": "text/x-python",
   "name": "python",
   "nbconvert_exporter": "python",
   "pygments_lexer": "ipython3",
   "version": "3.9.13"
  },
  "orig_nbformat": 4
 },
 "nbformat": 4,
 "nbformat_minor": 2
}
