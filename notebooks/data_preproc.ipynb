{
 "cells": [
  {
   "cell_type": "code",
   "execution_count": 1,
   "metadata": {},
   "outputs": [
    {
     "name": "stderr",
     "output_type": "stream",
     "text": [
      "c:\\Users\\maksi\\AppData\\Local\\pypoetry\\Cache\\virtualenvs\\transformer-S-ou0Pg6-py3.9\\lib\\site-packages\\tqdm\\auto.py:21: TqdmWarning: IProgress not found. Please update jupyter and ipywidgets. See https://ipywidgets.readthedocs.io/en/stable/user_install.html\n",
      "  from .autonotebook import tqdm as notebook_tqdm\n",
      "None of PyTorch, TensorFlow >= 2.0, or Flax have been found. Models won't be available and only tokenizers, configuration and file/data utilities can be used.\n"
     ]
    }
   ],
   "source": [
    "import pandas as pd\n",
    "from transformers import GPT2Tokenizer"
   ]
  },
  {
   "cell_type": "code",
   "execution_count": 2,
   "metadata": {},
   "outputs": [],
   "source": [
    "df = pd.read_parquet(r\"..\\data\\raw\\hpmor_raw.parquet\")"
   ]
  },
  {
   "cell_type": "code",
   "execution_count": 3,
   "metadata": {},
   "outputs": [
    {
     "name": "stderr",
     "output_type": "stream",
     "text": [
      "Downloading (…)olve/main/vocab.json: 100%|██████████| 1.71M/1.71M [00:00<00:00, 2.19MB/s]\n",
      "c:\\Users\\maksi\\AppData\\Local\\pypoetry\\Cache\\virtualenvs\\transformer-S-ou0Pg6-py3.9\\lib\\site-packages\\huggingface_hub\\file_download.py:133: UserWarning: `huggingface_hub` cache-system uses symlinks by default to efficiently store duplicated files but your machine does not support them in C:\\Users\\maksi\\.cache\\huggingface\\hub. Caching files will still work but in a degraded version that might require more space on your disk. This warning can be disabled by setting the `HF_HUB_DISABLE_SYMLINKS_WARNING` environment variable. For more details, see https://huggingface.co/docs/huggingface_hub/how-to-cache#limitations.\n",
      "To support symlinks on Windows, you either need to activate Developer Mode or to run Python as an administrator. In order to see activate developer mode, see this article: https://docs.microsoft.com/en-us/windows/apps/get-started/enable-your-device-for-development\n",
      "  warnings.warn(message)\n",
      "Downloading (…)olve/main/merges.txt: 100%|██████████| 1.27M/1.27M [00:00<00:00, 2.08MB/s]\n",
      "Downloading (…)lve/main/config.json: 100%|██████████| 609/609 [00:00<00:00, 152kB/s]\n"
     ]
    }
   ],
   "source": [
    "model_name_or_path = \"sberbank-ai/rugpt3large_based_on_gpt2\"\n",
    "tokenizer = GPT2Tokenizer.from_pretrained(model_name_or_path)"
   ]
  },
  {
   "cell_type": "code",
   "execution_count": 7,
   "metadata": {},
   "outputs": [],
   "source": [
    "text = df.text[0][0:40]\n",
    "# Процесс токенизации с помощьюю токенайзера ruGPT-3\n",
    "tokens = tokenizer.encode(text, add_special_tokens=False)\n",
    "# Обратная поэлементая токенизация\n",
    "decoded_tokens = [tokenizer.decode([token]) for token in tokens]"
   ]
  },
  {
   "cell_type": "code",
   "execution_count": 8,
   "metadata": {},
   "outputs": [
    {
     "name": "stdout",
     "output_type": "stream",
     "text": [
      "text: Отказ от прав: Гарри Поттер принадлежит \n",
      "tokens:  [4925, 614, 360, 835, 30, 10467, 2171, 842, 9914, 225]\n",
      "decoded tokens:  ['От', 'каз', ' от', ' прав', ':', ' Гарри', ' Пот', 'тер', ' принадлежит', ' ']\n"
     ]
    }
   ],
   "source": [
    "print(\"text:\", text[0:40])\n",
    "print(\"tokens: \", tokens)\n",
    "print(\"decoded tokens: \", decoded_tokens)"
   ]
  },
  {
   "cell_type": "code",
   "execution_count": 9,
   "metadata": {},
   "outputs": [],
   "source": [
    "encodes = []\n",
    "for paragraph in df.text:\n",
    "    encodes.append(tokenizer.encode(paragraph, add_special_tokens=False))"
   ]
  },
  {
   "cell_type": "code",
   "execution_count": 13,
   "metadata": {},
   "outputs": [],
   "source": [
    "df['encode'] = encodes"
   ]
  },
  {
   "cell_type": "code",
   "execution_count": 16,
   "metadata": {},
   "outputs": [],
   "source": [
    "df.to_parquet('..\\data\\interim\\hpmor_encode.parquet')"
   ]
  }
 ],
 "metadata": {
  "kernelspec": {
   "display_name": "transformer-S-ou0Pg6-py3.9",
   "language": "python",
   "name": "python3"
  },
  "language_info": {
   "codemirror_mode": {
    "name": "ipython",
    "version": 3
   },
   "file_extension": ".py",
   "mimetype": "text/x-python",
   "name": "python",
   "nbconvert_exporter": "python",
   "pygments_lexer": "ipython3",
   "version": "3.9.13"
  },
  "orig_nbformat": 4
 },
 "nbformat": 4,
 "nbformat_minor": 2
}
