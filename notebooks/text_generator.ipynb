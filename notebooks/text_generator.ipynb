{
 "cells": [
  {
   "attachments": {},
   "cell_type": "markdown",
   "metadata": {},
   "source": [
    "## Пример использования"
   ]
  },
  {
   "attachments": {},
   "cell_type": "markdown",
   "metadata": {},
   "source": [
    "python path/to/predict_model.py \"initial text\" number_of_tokens \"path/to/model.pt\""
   ]
  },
  {
   "cell_type": "code",
   "execution_count": 12,
   "metadata": {},
   "outputs": [
    {
     "name": "stdout",
     "output_type": "stream",
     "text": [
      "Successfully loaded model from the checkpoint\n",
      "Гарри Поттер это позволило аппетита, жить... — Ты б ни против, — проговорил Гарри. — До сих пор не может быть! Пусти, мистер Поттер! Как я? Постой, — мистер Поттер. — Ступайте, сэр. — Ладно, — зевнул через голову Малфоя, подхватывая его серебряными глазами. — Что за ваше? С крыльца очередной граф. При охлаждении! Исключительно быстро, Алиса перепугал своим голосом и загибаясь, та не несколько мелких желаний\n"
     ]
    }
   ],
   "source": [
    "!python ..\\src\\models\\predict_model.py \"Гарри Поттер это\" 100 \"../models/model.pt\""
   ]
  }
 ],
 "metadata": {
  "kernelspec": {
   "display_name": "transformer-S-ou0Pg6-py3.9",
   "language": "python",
   "name": "python3"
  },
  "language_info": {
   "codemirror_mode": {
    "name": "ipython",
    "version": 3
   },
   "file_extension": ".py",
   "mimetype": "text/x-python",
   "name": "python",
   "nbconvert_exporter": "python",
   "pygments_lexer": "ipython3",
   "version": "3.9.13"
  },
  "orig_nbformat": 4
 },
 "nbformat": 4,
 "nbformat_minor": 2
}
